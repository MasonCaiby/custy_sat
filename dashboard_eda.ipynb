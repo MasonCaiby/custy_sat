{
 "cells": [
  {
   "cell_type": "code",
   "execution_count": 1,
   "metadata": {},
   "outputs": [],
   "source": [
    "%matplotlib inline\n",
    "\n",
    "from helpers import get_session\n",
    "\n",
    "import numpy as np # is any good data project complete without at least one call to np?\n",
    "import pandas as pd\n",
    "import matplotlib.pyplot as plt\n",
    "import seaborn as sns\n",
    "from datetime import datetime, timedelta\n",
    "sns.set()"
   ]
  },
  {
   "cell_type": "code",
   "execution_count": 2,
   "metadata": {},
   "outputs": [],
   "source": [
    "def get_df_from_sql():\n",
    "    engine, Session = get_session()\n",
    "    df = pd.read_sql_query('select * from ratings', con=engine)\n",
    "    return df"
   ]
  },
  {
   "cell_type": "code",
   "execution_count": 3,
   "metadata": {},
   "outputs": [],
   "source": [
    "df = get_df_from_sql()"
   ]
  },
  {
   "cell_type": "code",
   "execution_count": 4,
   "metadata": {},
   "outputs": [
    {
     "name": "stdout",
     "output_type": "stream",
     "text": [
      "<class 'pandas.core.frame.DataFrame'>\n",
      "RangeIndex: 1604 entries, 0 to 1603\n",
      "Data columns (total 4 columns):\n",
      "id        1604 non-null int64\n",
      "device    1604 non-null object\n",
      "date      1604 non-null datetime64[ns]\n",
      "rating    1604 non-null int64\n",
      "dtypes: datetime64[ns](1), int64(2), object(1)\n",
      "memory usage: 50.2+ KB\n"
     ]
    },
    {
     "data": {
      "text/plain": [
       "'Cool, everything is the dtype I want'"
      ]
     },
     "execution_count": 4,
     "metadata": {},
     "output_type": "execute_result"
    }
   ],
   "source": [
    "df.info()\n",
    "\"\"\"Cool, everything is the dtype I want\"\"\""
   ]
  },
  {
   "cell_type": "markdown",
   "metadata": {},
   "source": [
    "# Things I want from the df\n",
    "1. Stacked bar chart for daily ratings of the past week\n",
    "2. Average rating trendline for the previous month\n",
    "3. Day's running total of all 3 options\n",
    "4. Current Score needle\n",
    "5. Customer Satisfaction per month"
   ]
  },
  {
   "cell_type": "markdown",
   "metadata": {},
   "source": [
    "## Weekly Stacked Bar Chart"
   ]
  },
  {
   "cell_type": "code",
   "execution_count": 23,
   "metadata": {},
   "outputs": [],
   "source": [
    "# Barchart for week\n",
    "df_week = df[df['date'].dt.date > datetime.date(datetime.now()) - timedelta(7)]\n",
    "week_1 = df_week[df_week['rating'] == 1].groupby(df_week.date.dt.date).count()['id']\n",
    "week_2 = df_week[df_week['rating'] == 2].groupby(df_week.date.dt.date).count()['id']\n",
    "week_3 = df_week[df_week['rating'] == 3].groupby(df_week.date.dt.date).count()['id']"
   ]
  },
  {
   "cell_type": "code",
   "execution_count": 24,
   "metadata": {},
   "outputs": [
    {
     "data": {
      "text/html": [
       "<div>\n",
       "<style scoped>\n",
       "    .dataframe tbody tr th:only-of-type {\n",
       "        vertical-align: middle;\n",
       "    }\n",
       "\n",
       "    .dataframe tbody tr th {\n",
       "        vertical-align: top;\n",
       "    }\n",
       "\n",
       "    .dataframe thead th {\n",
       "        text-align: right;\n",
       "    }\n",
       "</style>\n",
       "<table border=\"1\" class=\"dataframe\">\n",
       "  <thead>\n",
       "    <tr style=\"text-align: right;\">\n",
       "      <th></th>\n",
       "      <th>1</th>\n",
       "      <th>2</th>\n",
       "      <th>3</th>\n",
       "    </tr>\n",
       "    <tr>\n",
       "      <th>date</th>\n",
       "      <th></th>\n",
       "      <th></th>\n",
       "      <th></th>\n",
       "    </tr>\n",
       "  </thead>\n",
       "  <tbody>\n",
       "    <tr>\n",
       "      <th>2019-07-27</th>\n",
       "      <td>6</td>\n",
       "      <td>5</td>\n",
       "      <td>3</td>\n",
       "    </tr>\n",
       "    <tr>\n",
       "      <th>2019-07-28</th>\n",
       "      <td>6</td>\n",
       "      <td>5</td>\n",
       "      <td>5</td>\n",
       "    </tr>\n",
       "    <tr>\n",
       "      <th>2019-07-29</th>\n",
       "      <td>51</td>\n",
       "      <td>47</td>\n",
       "      <td>21</td>\n",
       "    </tr>\n",
       "    <tr>\n",
       "      <th>2019-07-30</th>\n",
       "      <td>21</td>\n",
       "      <td>90</td>\n",
       "      <td>12</td>\n",
       "    </tr>\n",
       "    <tr>\n",
       "      <th>2019-07-31</th>\n",
       "      <td>4</td>\n",
       "      <td>7</td>\n",
       "      <td>8</td>\n",
       "    </tr>\n",
       "    <tr>\n",
       "      <th>2019-08-01</th>\n",
       "      <td>74</td>\n",
       "      <td>109</td>\n",
       "      <td>116</td>\n",
       "    </tr>\n",
       "  </tbody>\n",
       "</table>\n",
       "</div>"
      ],
      "text/plain": [
       "             1    2    3\n",
       "date                    \n",
       "2019-07-27   6    5    3\n",
       "2019-07-28   6    5    5\n",
       "2019-07-29  51   47   21\n",
       "2019-07-30  21   90   12\n",
       "2019-07-31   4    7    8\n",
       "2019-08-01  74  109  116"
      ]
     },
     "execution_count": 24,
     "metadata": {},
     "output_type": "execute_result"
    }
   ],
   "source": [
    "df_week = pd.concat([week_1, week_2,week_3], axis=1, sort=True).fillna(0)\n",
    "df_week.columns = ['1','2','3']\n",
    "df_week"
   ]
  },
  {
   "cell_type": "code",
   "execution_count": 27,
   "metadata": {},
   "outputs": [
    {
     "data": {
      "text/html": [
       "<div>\n",
       "<style scoped>\n",
       "    .dataframe tbody tr th:only-of-type {\n",
       "        vertical-align: middle;\n",
       "    }\n",
       "\n",
       "    .dataframe tbody tr th {\n",
       "        vertical-align: top;\n",
       "    }\n",
       "\n",
       "    .dataframe thead th {\n",
       "        text-align: right;\n",
       "    }\n",
       "</style>\n",
       "<table border=\"1\" class=\"dataframe\">\n",
       "  <thead>\n",
       "    <tr style=\"text-align: right;\">\n",
       "      <th></th>\n",
       "      <th>1</th>\n",
       "      <th>2</th>\n",
       "      <th>3</th>\n",
       "      <th>mean</th>\n",
       "      <th>count</th>\n",
       "    </tr>\n",
       "    <tr>\n",
       "      <th>date</th>\n",
       "      <th></th>\n",
       "      <th></th>\n",
       "      <th></th>\n",
       "      <th></th>\n",
       "      <th></th>\n",
       "    </tr>\n",
       "  </thead>\n",
       "  <tbody>\n",
       "    <tr>\n",
       "      <th>2019-07-27</th>\n",
       "      <td>6</td>\n",
       "      <td>5</td>\n",
       "      <td>3</td>\n",
       "      <td>1.785714</td>\n",
       "      <td>28.0</td>\n",
       "    </tr>\n",
       "    <tr>\n",
       "      <th>2019-07-28</th>\n",
       "      <td>6</td>\n",
       "      <td>5</td>\n",
       "      <td>5</td>\n",
       "      <td>1.937500</td>\n",
       "      <td>32.0</td>\n",
       "    </tr>\n",
       "    <tr>\n",
       "      <th>2019-07-29</th>\n",
       "      <td>51</td>\n",
       "      <td>47</td>\n",
       "      <td>21</td>\n",
       "      <td>1.747899</td>\n",
       "      <td>238.0</td>\n",
       "    </tr>\n",
       "    <tr>\n",
       "      <th>2019-07-30</th>\n",
       "      <td>21</td>\n",
       "      <td>90</td>\n",
       "      <td>12</td>\n",
       "      <td>1.926829</td>\n",
       "      <td>246.0</td>\n",
       "    </tr>\n",
       "    <tr>\n",
       "      <th>2019-07-31</th>\n",
       "      <td>4</td>\n",
       "      <td>7</td>\n",
       "      <td>8</td>\n",
       "      <td>2.210526</td>\n",
       "      <td>38.0</td>\n",
       "    </tr>\n",
       "    <tr>\n",
       "      <th>2019-08-01</th>\n",
       "      <td>74</td>\n",
       "      <td>109</td>\n",
       "      <td>116</td>\n",
       "      <td>2.140468</td>\n",
       "      <td>598.0</td>\n",
       "    </tr>\n",
       "  </tbody>\n",
       "</table>\n",
       "</div>"
      ],
      "text/plain": [
       "             1    2    3      mean  count\n",
       "date                                     \n",
       "2019-07-27   6    5    3  1.785714   28.0\n",
       "2019-07-28   6    5    5  1.937500   32.0\n",
       "2019-07-29  51   47   21  1.747899  238.0\n",
       "2019-07-30  21   90   12  1.926829  246.0\n",
       "2019-07-31   4    7    8  2.210526   38.0\n",
       "2019-08-01  74  109  116  2.140468  598.0"
      ]
     },
     "execution_count": 27,
     "metadata": {},
     "output_type": "execute_result"
    }
   ],
   "source": [
    "df_week['mean'] = (df_week['1']*1+df_week['2']*2+df_week['3']*3)/(df_week['1']+df_week['2']+df_week['3'])\n",
    "df_week"
   ]
  },
  {
   "cell_type": "code",
   "execution_count": 7,
   "metadata": {},
   "outputs": [
    {
     "name": "stderr",
     "output_type": "stream",
     "text": [
      "C:\\Users\\admin7\\AppData\\Local\\Continuum\\anaconda3\\lib\\site-packages\\pandas\\plotting\\_converter.py:129: FutureWarning: Using an implicitly registered datetime converter for a matplotlib plotting method. The converter was registered by pandas on import. Future versions of pandas will require you to explicitly register matplotlib converters.\n",
      "\n",
      "To register the converters:\n",
      "\t>>> from pandas.plotting import register_matplotlib_converters\n",
      "\t>>> register_matplotlib_converters()\n",
      "  warnings.warn(msg, FutureWarning)\n"
     ]
    },
    {
     "data": {
      "text/plain": [
       "(array([737267., 737268., 737269., 737270., 737271., 737272.]),\n",
       " <a list of 6 Text xticklabel objects>)"
      ]
     },
     "execution_count": 7,
     "metadata": {},
     "output_type": "execute_result"
    },
    {
     "data": {
      "image/png": "[encoded data removed]",
      "text/plain": [
       "<Figure size 432x288 with 1 Axes>"
      ]
     },
     "metadata": {
      "needs_background": "light"
     },
     "output_type": "display_data"
    }
   ],
   "source": [
    "plt.bar(df_week.index, df_week['1'], color='r')\n",
    "plt.bar(df_week.index, df_week['2'], bottom=df_week['1'], color='y')\n",
    "plt.bar(df_week.index, df_week['3'], bottom=df_week['1']+df_week['2'], color='g')\n",
    "plt.xticks(rotation=270)"
   ]
  },
  {
   "cell_type": "markdown",
   "metadata": {},
   "source": [
    "## Monthly Trend Line"
   ]
  },
  {
   "cell_type": "code",
   "execution_count": 295,
   "metadata": {},
   "outputs": [
    {
     "data": {
      "text/plain": [
       "[<matplotlib.lines.Line2D at 0x13a1826eb38>]"
      ]
     },
     "execution_count": 295,
     "metadata": {},
     "output_type": "execute_result"
    },
    {
     "data": {
      "image/png": "[encoded data removed]",
      "text/plain": [
       "<Figure size 432x288 with 1 Axes>"
      ]
     },
     "metadata": {},
     "output_type": "display_data"
    }
   ],
   "source": [
    "df_month = df[df['date'].dt.date > (datetime.date(datetime.now()) - timedelta(31))]\n",
    "df_month_avg = df_month.groupby(df_month['date'].dt.date).mean()\n",
    "\n",
    "ratings = df_month_avg.rating\n",
    "index = df_month_avg.index\n",
    "colors = [\"r\" if rating <1.5 else \"y\" if rating<2.5 else \"g\" for rating in ratings]\n",
    "plt.bar(index, ratings, color= colors)\n",
    "\n",
    "\n",
    "z = np.polynomial.polynomial.polyfit(range(len(ratings)), ratings, 1)\n",
    "p = np.poly1d(z[::-1])\n",
    "z_vals = p(range(len(ratings)))\n",
    "plt.xticks(rotation=270)\n",
    "plt.plot(index, z_vals)"
   ]
  },
  {
   "cell_type": "markdown",
   "metadata": {},
   "source": [
    "## Day's running total for each rating"
   ]
  },
  {
   "cell_type": "code",
   "execution_count": 330,
   "metadata": {},
   "outputs": [
    {
     "data": {
      "text/plain": [
       "([<matplotlib.patches.Wedge at 0x13a1a081978>,\n",
       "  <matplotlib.patches.Wedge at 0x13a1a08b128>,\n",
       "  <matplotlib.patches.Wedge at 0x13a1a08b828>],\n",
       " [Text(0.5499999702695115, 0.9526279613277875, '1'),\n",
       "  Text(-1.0963167924324304, -0.08994159566444968, '2'),\n",
       "  Text(0.6260500746910869, -0.904467414548078, '3')],\n",
       " [Text(0.2999999837833699, 0.5196152516333385, '33.33%\\n371'),\n",
       "  Text(-0.5979909776904165, -0.04905905218060891, '35.94%\\n400'),\n",
       "  Text(0.34148185892241095, -0.4933458624807698, '30.73%\\n342')])"
      ]
     },
     "execution_count": 330,
     "metadata": {},
     "output_type": "execute_result"
    },
    {
     "data": {
      "image/png": "[encoded data removed]",
      "text/plain": [
       "<Figure size 432x288 with 1 Axes>"
      ]
     },
     "metadata": {},
     "output_type": "display_data"
    }
   ],
   "source": [
    "def label(pct, data):\n",
    "    pct = round(pct,2)\n",
    "    return \"{}%\\n{}\".format(pct,int(round(pct*data/100)))\n",
    "\n",
    "\n",
    "df_today = df[df['date'].dt.date == datetime.date(datetime.now())]\n",
    "df_today = df.groupby('rating').count()\n",
    "vote_count = df_today['id'].sum()\n",
    "plt.pie(df_today['id'], labels=df_today.index, colors=['r','y','g'], autopct=lambda pct: label(pct, vote_count))"
   ]
  },
  {
   "cell_type": "code",
   "execution_count": null,
   "metadata": {},
   "outputs": [],
   "source": []
  },
  {
   "cell_type": "code",
   "execution_count": null,
   "metadata": {},
   "outputs": [],
   "source": []
  }
 ],
 "metadata": {
  "kernelspec": {
   "display_name": "Python 3",
   "language": "python",
   "name": "python3"
  },
  "language_info": {
   "codemirror_mode": {
    "name": "ipython",
    "version": 3
   },
   "file_extension": ".py",
   "mimetype": "text/x-python",
   "name": "python",
   "nbconvert_exporter": "python",
   "pygments_lexer": "ipython3",
   "version": "3.6.8"
  }
 },
 "nbformat": 4,
 "nbformat_minor": 2
}
